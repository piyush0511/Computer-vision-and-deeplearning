{
  "nbformat": 4,
  "nbformat_minor": 0,
  "metadata": {
    "colab": {
      "name": "CNN_MINST.ipynb",
      "provenance": [],
      "collapsed_sections": [],
      "authorship_tag": "ABX9TyOtbIEXvSLloIzsowmiFofW",
      "include_colab_link": true
    },
    "kernelspec": {
      "name": "python3",
      "display_name": "Python 3"
    },
    "accelerator": "GPU"
  },
  "cells": [
    {
      "cell_type": "markdown",
      "metadata": {
        "id": "view-in-github",
        "colab_type": "text"
      },
      "source": [
        "<a href=\"https://colab.research.google.com/github/piyush0511/Computer-vision-and-deeplearning/blob/master/CNN_MINST.ipynb\" target=\"_parent\"><img src=\"https://colab.research.google.com/assets/colab-badge.svg\" alt=\"Open In Colab\"/></a>"
      ]
    },
    {
      "cell_type": "code",
      "metadata": {
        "id": "i2oZK9l480BB",
        "colab_type": "code",
        "colab": {}
      },
      "source": [
        "from __future__ import print_function\n",
        "import keras\n",
        "from keras.datasets import mnist\n",
        "from keras.models import Sequential\n",
        "from keras.layers import Dense, Dropout, Flatten\n",
        "from keras.layers import Conv2D, MaxPooling2D\n",
        "from keras import backend as K"
      ],
      "execution_count": 0,
      "outputs": []
    },
    {
      "cell_type": "code",
      "metadata": {
        "id": "R2Tcwapt88Cc",
        "colab_type": "code",
        "colab": {}
      },
      "source": [
        "batch_size = 128\n",
        "num_classes = 10\n",
        "epochs = 20\n"
      ],
      "execution_count": 0,
      "outputs": []
    },
    {
      "cell_type": "code",
      "metadata": {
        "id": "7-6N0ZG08_8R",
        "colab_type": "code",
        "colab": {}
      },
      "source": [
        "# input image dimensions\n",
        "img_rows, img_cols = 28, 28\n",
        "\n",
        "# the data, split between train and test sets\n",
        "(x_train, y_train), (x_test, y_test) = mnist.load_data()\n",
        "\n",
        "if K.image_data_format() == 'channels_first':\n",
        "    x_train = x_train.reshape(x_train.shape[0], 1, img_rows, img_cols)\n",
        "    x_test = x_test.reshape(x_test.shape[0], 1, img_rows, img_cols)\n",
        "    input_shape = (1, img_rows, img_cols)\n",
        "else:\n",
        "    x_train = x_train.reshape(x_train.shape[0], img_rows, img_cols, 1)\n",
        "    x_test = x_test.reshape(x_test.shape[0], img_rows, img_cols, 1)\n",
        "    input_shape = (img_rows, img_cols, 1)"
      ],
      "execution_count": 0,
      "outputs": []
    },
    {
      "cell_type": "code",
      "metadata": {
        "id": "eRhLy4Q29FBM",
        "colab_type": "code",
        "colab": {
          "base_uri": "https://localhost:8080/",
          "height": 68
        },
        "outputId": "81e10af9-6e06-42e8-c181-6b473927a45a"
      },
      "source": [
        "x_train = x_train.astype('float32')\n",
        "x_test = x_test.astype('float32')\n",
        "x_train /= 255\n",
        "x_test /= 255\n",
        "print('x_train shape:', x_train.shape)\n",
        "print(x_train.shape[0], 'train samples')\n",
        "print(x_test.shape[0], 'test samples')"
      ],
      "execution_count": 12,
      "outputs": [
        {
          "output_type": "stream",
          "text": [
            "x_train shape: (60000, 28, 28, 1)\n",
            "60000 train samples\n",
            "10000 test samples\n"
          ],
          "name": "stdout"
        }
      ]
    },
    {
      "cell_type": "code",
      "metadata": {
        "id": "rqWiuU1L9IsT",
        "colab_type": "code",
        "colab": {}
      },
      "source": [
        "# convert class vectors to binary class matrices\n",
        "y_train = keras.utils.to_categorical(y_train, num_classes)\n",
        "y_test = keras.utils.to_categorical(y_test, num_classes)\n",
        "\n"
      ],
      "execution_count": 0,
      "outputs": []
    },
    {
      "cell_type": "code",
      "metadata": {
        "id": "80XFyeXu9MLQ",
        "colab_type": "code",
        "colab": {}
      },
      "source": [
        "model = Sequential()\n",
        "model.add(Conv2D(32, kernel_size=(3, 3),\n",
        "                 activation='relu',\n",
        "                 input_shape=input_shape))\n",
        "model.add(Conv2D(64, (3, 3), activation='relu'))\n",
        "model.add(MaxPooling2D(pool_size=(2, 2)))\n",
        "model.add(Dropout(0.25))\n",
        "model.add(Flatten())\n",
        "model.add(Dense(128, activation='relu'))\n",
        "model.add(Dropout(0.5))\n",
        "model.add(Dense(num_classes, activation='softmax'))"
      ],
      "execution_count": 0,
      "outputs": []
    },
    {
      "cell_type": "code",
      "metadata": {
        "id": "69AkyI5Q9QDp",
        "colab_type": "code",
        "colab": {}
      },
      "source": [
        "model.compile(loss=keras.losses.categorical_crossentropy,\n",
        "              optimizer=keras.optimizers.Adadelta(),\n",
        "              metrics=['accuracy'])"
      ],
      "execution_count": 0,
      "outputs": []
    },
    {
      "cell_type": "code",
      "metadata": {
        "id": "4BdW1YgB9ULY",
        "colab_type": "code",
        "colab": {
          "base_uri": "https://localhost:8080/",
          "height": 768
        },
        "outputId": "485806da-3250-4520-8c1d-3f5c37563eac"
      },
      "source": [
        "model.fit(x_train, y_train,\n",
        "          batch_size=batch_size,\n",
        "          epochs=epochs,\n",
        "          verbose=1,\n",
        "          validation_data=(x_test, y_test))\n",
        "score = model.evaluate(x_test, y_test, verbose=0)\n",
        "print('Test loss:', score[0])\n",
        "print('Test accuracy:', score[1])"
      ],
      "execution_count": 16,
      "outputs": [
        {
          "output_type": "stream",
          "text": [
            "Train on 60000 samples, validate on 10000 samples\n",
            "Epoch 1/20\n",
            "60000/60000 [==============================] - 4s 68us/step - loss: 0.2594 - accuracy: 0.9211 - val_loss: 0.0625 - val_accuracy: 0.9795\n",
            "Epoch 2/20\n",
            "60000/60000 [==============================] - 4s 64us/step - loss: 0.0874 - accuracy: 0.9735 - val_loss: 0.0395 - val_accuracy: 0.9874\n",
            "Epoch 3/20\n",
            "60000/60000 [==============================] - 4s 64us/step - loss: 0.0661 - accuracy: 0.9799 - val_loss: 0.0366 - val_accuracy: 0.9879\n",
            "Epoch 4/20\n",
            "60000/60000 [==============================] - 4s 64us/step - loss: 0.0559 - accuracy: 0.9830 - val_loss: 0.0327 - val_accuracy: 0.9889\n",
            "Epoch 5/20\n",
            "60000/60000 [==============================] - 4s 64us/step - loss: 0.0461 - accuracy: 0.9860 - val_loss: 0.0279 - val_accuracy: 0.9905\n",
            "Epoch 6/20\n",
            "60000/60000 [==============================] - 4s 64us/step - loss: 0.0418 - accuracy: 0.9873 - val_loss: 0.0284 - val_accuracy: 0.9906\n",
            "Epoch 7/20\n",
            "60000/60000 [==============================] - 4s 64us/step - loss: 0.0365 - accuracy: 0.9887 - val_loss: 0.0286 - val_accuracy: 0.9907\n",
            "Epoch 8/20\n",
            "60000/60000 [==============================] - 4s 63us/step - loss: 0.0332 - accuracy: 0.9902 - val_loss: 0.0279 - val_accuracy: 0.9909\n",
            "Epoch 9/20\n",
            "60000/60000 [==============================] - 4s 64us/step - loss: 0.0306 - accuracy: 0.9906 - val_loss: 0.0265 - val_accuracy: 0.9914\n",
            "Epoch 10/20\n",
            "60000/60000 [==============================] - 4s 64us/step - loss: 0.0286 - accuracy: 0.9916 - val_loss: 0.0261 - val_accuracy: 0.9911\n",
            "Epoch 11/20\n",
            "60000/60000 [==============================] - 4s 64us/step - loss: 0.0269 - accuracy: 0.9912 - val_loss: 0.0261 - val_accuracy: 0.9916\n",
            "Epoch 12/20\n",
            "60000/60000 [==============================] - 4s 64us/step - loss: 0.0254 - accuracy: 0.9926 - val_loss: 0.0235 - val_accuracy: 0.9927\n",
            "Epoch 13/20\n",
            "60000/60000 [==============================] - 4s 64us/step - loss: 0.0242 - accuracy: 0.9925 - val_loss: 0.0258 - val_accuracy: 0.9926\n",
            "Epoch 14/20\n",
            "60000/60000 [==============================] - 4s 64us/step - loss: 0.0232 - accuracy: 0.9924 - val_loss: 0.0272 - val_accuracy: 0.9923\n",
            "Epoch 15/20\n",
            "60000/60000 [==============================] - 4s 64us/step - loss: 0.0216 - accuracy: 0.9932 - val_loss: 0.0291 - val_accuracy: 0.9915\n",
            "Epoch 16/20\n",
            "60000/60000 [==============================] - 4s 63us/step - loss: 0.0210 - accuracy: 0.9938 - val_loss: 0.0249 - val_accuracy: 0.9926\n",
            "Epoch 17/20\n",
            "60000/60000 [==============================] - 4s 63us/step - loss: 0.0195 - accuracy: 0.9938 - val_loss: 0.0242 - val_accuracy: 0.9919\n",
            "Epoch 18/20\n",
            "60000/60000 [==============================] - 4s 64us/step - loss: 0.0201 - accuracy: 0.9937 - val_loss: 0.0253 - val_accuracy: 0.9924\n",
            "Epoch 19/20\n",
            "60000/60000 [==============================] - 4s 64us/step - loss: 0.0192 - accuracy: 0.9941 - val_loss: 0.0263 - val_accuracy: 0.9914\n",
            "Epoch 20/20\n",
            "60000/60000 [==============================] - 4s 63us/step - loss: 0.0183 - accuracy: 0.9943 - val_loss: 0.0296 - val_accuracy: 0.9916\n",
            "Test loss: 0.029574889895713774\n",
            "Test accuracy: 0.991599977016449\n"
          ],
          "name": "stdout"
        }
      ]
    },
    {
      "cell_type": "code",
      "metadata": {
        "id": "wtbdcAe99XYR",
        "colab_type": "code",
        "colab": {}
      },
      "source": [
        ""
      ],
      "execution_count": 0,
      "outputs": []
    }
  ]
}